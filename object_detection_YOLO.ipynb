{
  "nbformat": 4,
  "nbformat_minor": 0,
  "metadata": {
    "colab": {
      "name": "object detection YOLO.ipynb",
      "provenance": [],
      "collapsed_sections": []
    },
    "kernelspec": {
      "name": "python3",
      "display_name": "Python 3"
    },
    "accelerator": "GPU"
  },
  "cells": [
    {
      "cell_type": "code",
      "metadata": {
        "id": "wl1GSUn3xKgo",
        "colab_type": "code",
        "colab": {}
      },
      "source": [
        "!pip install tensorflow-gpu==1.14\n",
        "!pip install keras==2.2.4\n",
        "!pip install silence-tensorflow"
      ],
      "execution_count": 0,
      "outputs": []
    },
    {
      "cell_type": "code",
      "metadata": {
        "id": "ou185BSQzsLu",
        "colab_type": "code",
        "colab": {}
      },
      "source": [
        "from google.colab import drive\n",
        "drive.mount('/content/drive')"
      ],
      "execution_count": 0,
      "outputs": []
    },
    {
      "cell_type": "code",
      "metadata": {
        "id": "_nQHThDCUrBW",
        "colab_type": "code",
        "colab": {}
      },
      "source": [
        "import tensorflow as tf\n",
        "\n",
        "tf.logging.set_verbosity(tf.logging.ERROR)\n",
        "tf.__version__"
      ],
      "execution_count": 0,
      "outputs": []
    },
    {
      "cell_type": "code",
      "metadata": {
        "id": "DBQuQNFBHLcw",
        "colab_type": "code",
        "colab": {}
      },
      "source": [
        "# from shutil import rmtree\n",
        "\n",
        "# rmtree(\"/content/dataset\")"
      ],
      "execution_count": 0,
      "outputs": []
    },
    {
      "cell_type": "code",
      "metadata": {
        "id": "0Eh7_3dKz6b-",
        "colab_type": "code",
        "colab": {}
      },
      "source": [
        "from shutil import copytree, copyfile\n",
        "\n",
        "# dataset import \n",
        "copytree(r\"/content/drive/My Drive/SIH/dataset/Stop_sign\", \"/content/Python_lessons/dataset/Stop_sign\")\n",
        "copytree(r\"/content/drive/My Drive/SIH/dataset/speed_sign\", \"/content/Python_lessons/dataset/speed_sign\")\n",
        "copytree(r\"/content/drive/My Drive/SIH/dataset/Traffic_light\", \"/content/Python_lessons/dataset/Traffic_light\")\n",
        "copytree(r\"/content/drive/My Drive/SIH/dataset/Traffic_sign\", \"/content/Python_lessons/dataset/Traffic_sign\")\n",
        "copytree(r\"/content/drive/My Drive/SIH/dataset/Car\", \"/content/Python_lessons/dataset/Car\")\n",
        "copytree(r\"/content/drive/My Drive/SIH/dataset/Bus\", \"/content/Python_lessons/dataset/Bus\")\n",
        "\n",
        "# yolov3 related files import\n",
        "copytree(r\"/content/drive/My Drive/SIH/model_data\", \"/content/Python_lessons/model_data\")\n",
        "copytree(r'/content/drive/My Drive/SIH/yolo3', r'/content/yolo3')\n",
        "\n",
        "# weight convertor, class and class annotation files import\n",
        "copyfile(r'/content/drive/My Drive/SIH/extras/convert.py', r\"/content/convert.py\")\n",
        "copyfile(r\"/content/drive/My Drive/SIH/dataset/CLASS_test.txt\", \"/content/CLASS_test.txt\")\n",
        "copyfile(r\"/content/drive/My Drive/SIH/dataset/CLASS_test_classes.txt\", \"/content/CLASS_test_classes.txt\")"
      ],
      "execution_count": 0,
      "outputs": []
    },
    {
      "cell_type": "code",
      "metadata": {
        "id": "5cqTM_KOBNDZ",
        "colab_type": "code",
        "colab": {}
      },
      "source": [
        "!python convert.py /content/Python_lessons/model_data/yolov3.cfg /content/Python_lessons/model_data/yolov3.weights /content/Python_lessons/model_data/yolo_weights.h5"
      ],
      "execution_count": 0,
      "outputs": []
    },
    {
      "cell_type": "code",
      "metadata": {
        "id": "V5ezVdBc0C2h",
        "colab_type": "code",
        "colab": {}
      },
      "source": [
        "import numpy as np\n",
        "import keras.backend as K\n",
        "from keras.layers import Input, Lambda\n",
        "from keras.models import Model\n",
        "from keras.optimizers import Adam\n",
        "from keras.callbacks import TensorBoard, ModelCheckpoint, ReduceLROnPlateau, EarlyStopping\n",
        "\n",
        "from yolo3.model import preprocess_true_boxes, yolo_body, tiny_yolo_body, yolo_loss\n",
        "from yolo3.utils import get_random_data"
      ],
      "execution_count": 0,
      "outputs": []
    },
    {
      "cell_type": "code",
      "metadata": {
        "id": "u0OodjYN1IER",
        "colab_type": "code",
        "colab": {}
      },
      "source": [
        "def _main():\n",
        "    annotation_path = 'CLASS_test.txt'\n",
        "    log_dir = 'logs/000/'\n",
        "    classes_path = 'CLASS_test_classes.txt'\n",
        "    anchors_path = '/content/Python_lessons/model_data/yolo_anchors.txt'\n",
        "    class_names = get_classes(classes_path)\n",
        "    num_classes = len(class_names)\n",
        "    anchors = get_anchors(anchors_path)[:6]\n",
        "\n",
        "    input_shape = (416,416) # multiple of 32, hw\n",
        "\n",
        "    is_tiny_version = len(anchors)==6 # default setting\n",
        "    if is_tiny_version:\n",
        "        model = create_tiny_model(input_shape, anchors, num_classes,\n",
        "            freeze_body=2, weights_path='/content/Python_lessons/model_data/yolo_weights.h5')\n",
        "    else:\n",
        "        model = create_model(input_shape, anchors, num_classes, freeze_body=2, weights_path='/content/Python_lessons/model_data/yolo_weights.h5') # make sure you know what you freeze\n",
        "\n",
        "\n",
        "    logging = TensorBoard(log_dir=log_dir)\n",
        "    checkpoint = ModelCheckpoint(log_dir + 'ep{epoch:03d}-loss{loss:.3f}-val_loss{val_loss:.3f}.h5',\n",
        "        monitor='val_loss', save_weights_only=True, save_best_only=True, period=3)\n",
        "    reduce_lr = ReduceLROnPlateau(monitor='val_loss', factor=0.1, patience=3, verbose=1)\n",
        "    early_stopping = EarlyStopping(monitor='val_loss', min_delta=0, patience=10, verbose=1)\n",
        "\n",
        "    val_split = 0.1\n",
        "    with open(annotation_path) as f:\n",
        "        lines = f.readlines()\n",
        "    np.random.shuffle(lines)\n",
        "    num_val = int(len(lines)*val_split)\n",
        "    num_train = len(lines) - num_val\n",
        "\n",
        "    # Train with frozen layers first, to get a stable loss.\n",
        "    # Adjust num epochs to your dataset. This step is enough to obtain a not bad model.\n",
        "    if True:\n",
        "        model.compile(optimizer=Adam(lr=1e-3), loss={\n",
        "            # use custom yolo_loss Lambda layer.\n",
        "            'yolo_loss': lambda y_true, y_pred: y_pred})\n",
        "\n",
        "        batch_size = 16\n",
        "        print('Train on {} samples, val on {} samples, with batch size {}.'.format(num_train, num_val, batch_size))\n",
        "        model.fit_generator(data_generator_wrapper(lines[:num_train], batch_size, input_shape, anchors, num_classes),\n",
        "                steps_per_epoch=max(1, num_train//batch_size),\n",
        "                validation_data=data_generator_wrapper(lines[num_train:], batch_size, input_shape, anchors, num_classes),\n",
        "                validation_steps=max(1, num_val//batch_size),\n",
        "                epochs=50,\n",
        "                initial_epoch=0,\n",
        "                callbacks=[logging, checkpoint])\n",
        "        model.save_weights(log_dir + 'trained_weights_stage_1.h5')\n",
        "\n",
        "    # Unfreeze and continue training, to fine-tune.\n",
        "    # Train longer if the result is not good.\n",
        "    if True:\n",
        "        for i in range(len(model.layers)):\n",
        "            model.layers[i].trainable = True\n",
        "        model.compile(optimizer=Adam(lr=1e-4), loss={'yolo_loss': lambda y_true, y_pred: y_pred}) # recompile to apply the change\n",
        "        print('Unfreeze all of the layers.')\n",
        "\n",
        "        batch_size = 8 # note that more GPU memory is required after unfreezing the body\n",
        "        print('Train on {} samples, val on {} samples, with batch size {}.'.format(num_train, num_val, batch_size))\n",
        "        model.fit_generator(data_generator_wrapper(lines[:num_train], batch_size, input_shape, anchors, num_classes),\n",
        "            steps_per_epoch=max(1, num_train//batch_size),\n",
        "            validation_data=data_generator_wrapper(lines[num_train:], batch_size, input_shape, anchors, num_classes),\n",
        "            validation_steps=max(1, num_val//batch_size),\n",
        "            epochs=100,\n",
        "            initial_epoch=50,\n",
        "            callbacks=[logging, checkpoint, reduce_lr, early_stopping])\n",
        "        model.save_weights(log_dir + 'trained_weights_final_3.h5')\n",
        "\n"
      ],
      "execution_count": 0,
      "outputs": []
    },
    {
      "cell_type": "code",
      "metadata": {
        "id": "B8yPnDVH2ivv",
        "colab_type": "code",
        "colab": {}
      },
      "source": [
        "def get_classes(classes_path):\n",
        "    '''loads the classes'''\n",
        "    with open(classes_path) as f:\n",
        "        class_names = f.readlines()\n",
        "    class_names = [c.strip() for c in class_names]\n",
        "    return class_names\n",
        "\n",
        "def get_anchors(anchors_path):\n",
        "    '''loads the anchors from a file'''\n",
        "    with open(anchors_path) as f:\n",
        "        anchors = f.readline()\n",
        "    anchors = [float(x) for x in anchors.split(',')]\n",
        "    return np.array(anchors).reshape(-1, 2)\n",
        "\n",
        "def create_model(input_shape, anchors, num_classes, load_pretrained=True, freeze_body=2,\n",
        "            weights_path='/content/Python_lessons/model_data/yolo_weights.h5'):\n",
        "    '''create the training model'''\n",
        "    K.clear_session() # get a new session\n",
        "    image_input = Input(shape=(None, None, 3))\n",
        "    h, w = input_shape\n",
        "    num_anchors = len(anchors)\n",
        "\n",
        "    y_true = [Input(shape=(h//{0:32, 1:16, 2:8}[l], w//{0:32, 1:16, 2:8}[l], \\\n",
        "        num_anchors//3, num_classes+5)) for l in range(3)]\n",
        "\n",
        "    model_body = yolo_body(image_input, num_anchors//3, num_classes)\n",
        "    print('Create YOLOv3 model with {} anchors and {} classes.'.format(num_anchors, num_classes))\n",
        "\n",
        "    if load_pretrained:\n",
        "        model_body.load_weights(weights_path, by_name=True, skip_mismatch=True)\n",
        "        print('Load weights {}.'.format(weights_path))\n",
        "        if freeze_body in [1, 2]:\n",
        "            # Freeze darknet53 body or freeze all but 3 output layers.\n",
        "            num = (185, len(model_body.layers)-3)[freeze_body-1]\n",
        "            for i in range(num): model_body.layers[i].trainable = False\n",
        "            print('Freeze the first {} layers of total {} layers.'.format(num, len(model_body.layers)))\n",
        "\n",
        "    model_loss = Lambda(yolo_loss, output_shape=(1,), name='yolo_loss',\n",
        "        arguments={'anchors': anchors, 'num_classes': num_classes, 'ignore_thresh': 0.5})(\n",
        "        [*model_body.output, *y_true])\n",
        "    model = Model([model_body.input, *y_true], model_loss)\n",
        "\n",
        "    return model\n"
      ],
      "execution_count": 0,
      "outputs": []
    },
    {
      "cell_type": "code",
      "metadata": {
        "id": "0XYVVXw72yZ_",
        "colab_type": "code",
        "colab": {}
      },
      "source": [
        "# def create_tiny_model(input_shape, anchors, num_classes, load_pretrained=True, freeze_body=2,\n",
        "#                       weights_path='/content/Python_lessons/model_data/tiny_yolo_weights.h5'):\n",
        "#     '''create the training model, for Tiny YOLOv3'''\n",
        "#     K.clear_session()  # get a new session\n",
        "#     image_input = Input(shape=(None, None, 3))\n",
        "#     h, w = input_shape\n",
        "#     num_anchors = len(anchors)\n",
        "\n",
        "#     y_true = [Input(shape=(h//{0: 32, 1: 16}[l], w//{0: 32, 1: 16}[l],\n",
        "#                            num_anchors//2, num_classes+5)) for l in range(2)]\n",
        "\n",
        "#     model_body = tiny_yolo_body(image_input, num_anchors//2, num_classes)\n",
        "#     print('Create Tiny YOLOv3 model with {} anchors and {} classes.'.format(\n",
        "#         num_anchors, num_classes))\n",
        "\n",
        "#     if load_pretrained:\n",
        "#         model_body.load_weights(weights_path, by_name=True, skip_mismatch=True)\n",
        "#         print('Load weights {}.'.format(weights_path))\n",
        "#         if freeze_body in [1, 2]:\n",
        "#             # Freeze the darknet body or freeze all but 2 output layers.\n",
        "#             num = (20, len(model_body.layers)-2)[freeze_body-1]\n",
        "#             for i in range(num):\n",
        "#                 model_body.layers[i].trainable = False\n",
        "#             print('Freeze the first {} layers of total {} layers.'.format(\n",
        "#                 num, len(model_body.layers)))\n",
        "\n",
        "#     model_loss = Lambda(yolo_loss, output_shape=(1,), name='yolo_loss',\n",
        "#                         arguments={'anchors': anchors, 'num_classes': num_classes, 'ignore_thresh': 0.7})(\n",
        "#         [*model_body.output, *y_true])\n",
        "#     model = Model([model_body.input, *y_true], model_loss)\n",
        "\n",
        "#     return model"
      ],
      "execution_count": 0,
      "outputs": []
    },
    {
      "cell_type": "code",
      "metadata": {
        "id": "1iMY42382-B9",
        "colab_type": "code",
        "colab": {}
      },
      "source": [
        "def data_generator(annotation_lines, batch_size, input_shape, anchors, num_classes):\n",
        "    '''data generator for fit_generator'''\n",
        "    n = len(annotation_lines)\n",
        "    i = 0\n",
        "    while True:\n",
        "        image_data = []\n",
        "        box_data = []\n",
        "        for b in range(batch_size):\n",
        "            if i==0:\n",
        "                np.random.shuffle(annotation_lines)\n",
        "            image, box = get_random_data(annotation_lines[i], input_shape, random=True)\n",
        "            image_data.append(image)\n",
        "            box_data.append(box)\n",
        "            i = (i+1) % n\n",
        "        image_data = np.array(image_data)\n",
        "        box_data = np.array(box_data)\n",
        "        y_true = preprocess_true_boxes(box_data, input_shape, anchors, num_classes)\n",
        "        yield [image_data, *y_true], np.zeros(batch_size)\n",
        "\n",
        "def data_generator_wrapper(annotation_lines, batch_size, input_shape, anchors, num_classes):\n",
        "    n = len(annotation_lines)\n",
        "    if n==0 or batch_size<=0: return None\n",
        "    return data_generator(annotation_lines, batch_size, input_shape, anchors, num_classes)"
      ],
      "execution_count": 0,
      "outputs": []
    },
    {
      "cell_type": "code",
      "metadata": {
        "id": "obLOMMUs72__",
        "colab_type": "code",
        "colab": {}
      },
      "source": [
        "if __name__ == '__main__':\n",
        "    _main()"
      ],
      "execution_count": 0,
      "outputs": []
    }
  ]
}